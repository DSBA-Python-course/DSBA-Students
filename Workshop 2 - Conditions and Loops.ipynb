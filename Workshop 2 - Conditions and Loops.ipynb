{
 "cells": [
  {
   "cell_type": "markdown",
   "metadata": {
    "colab_type": "text",
    "id": "AWMo8LYMqTxe"
   },
   "source": [
    "# Python Conditions and If Statements"
   ]
  },
  {
   "cell_type": "markdown",
   "metadata": {
    "colab_type": "text",
    "id": "v85V63oLqTxh"
   },
   "source": [
    "### Logical Conditions\n",
    "<b>Equals:</b> $a == b$\n",
    "\n",
    "<b>Not Equals:</b> $a != b$\n",
    "\n",
    "<b>Less than:</b> $a < b$\n",
    "\n",
    "<b>Less than or equal to:</b> $a <= b$\n",
    "\n",
    "<b>Greater than:</b> $a > b$\n",
    "\n",
    "<b>Greater than or equal to:</b> $a >= b$"
   ]
  },
  {
   "cell_type": "markdown",
   "metadata": {
    "colab_type": "text",
    "id": "PQz5iy5ZqTxi"
   },
   "source": [
    "### Logical operators, sketchily\n",
    "\n",
    "<b>AND:</b> $x>=5$ <b>and</b> $x<=10 \\approx x \\in [5,10]$ (conjunction)\n",
    "\n",
    "<b>OR:</b> $x>5$ <b>or</b> $x=<1 \\approx \\left[ \n",
    "      \\begin{gathered} \n",
    "        x \\le 1; \\\\ \n",
    "        x > 5, \\\\ \n",
    "      \\end{gathered} \n",
    "\\right.$ (disjunction)\n",
    "\n",
    "<b>NOT:</b> <b>not</b> $x>1 \\approx x\\le 1$ (negation)\n",
    "\n",
    "<b>Logical operators return True (if the condition is satisfied) or False (otherwise).</b>"
   ]
  },
  {
   "cell_type": "markdown",
   "metadata": {
    "colab_type": "text",
    "id": "dUinVBwmqTxi"
   },
   "source": [
    "# These conditions can be used in several ways, most commonly in if-statements and loops."
   ]
  },
  {
   "cell_type": "markdown",
   "metadata": {
    "colab_type": "text",
    "id": "X_Tr2KBSqTxj"
   },
   "source": [
    "# Examples"
   ]
  },
  {
   "cell_type": "code",
   "execution_count": 1,
   "metadata": {
    "colab": {
     "base_uri": "https://localhost:8080/",
     "height": 52
    },
    "colab_type": "code",
    "executionInfo": {
     "elapsed": 1554,
     "status": "ok",
     "timestamp": 1600176430748,
     "user": {
      "displayName": "Georgii Zhulikov",
      "photoUrl": "https://lh3.googleusercontent.com/a-/AOh14Giiw9KeBGHLuSFSbGbBOInNZfbi9tDn5rdzWTuqYg=s64",
      "userId": "04047607669073150518"
     },
     "user_tz": -180
    },
    "id": "j7omTmVEqTxk",
    "outputId": "9eecd14c-c78c-4d11-bfcc-4b123b697f77"
   },
   "outputs": [
    {
     "name": "stdout",
     "output_type": "stream",
     "text": [
      "True\n",
      "True\n"
     ]
    }
   ],
   "source": [
    "print(1 == True)\n",
    "print(False == 0)"
   ]
  },
  {
   "cell_type": "code",
   "execution_count": 2,
   "metadata": {
    "colab": {},
    "colab_type": "code",
    "id": "AjMZglozqTxn"
   },
   "outputs": [
    {
     "data": {
      "text/plain": [
       "True"
      ]
     },
     "execution_count": 2,
     "metadata": {},
     "output_type": "execute_result"
    }
   ],
   "source": [
    "1==1"
   ]
  },
  {
   "cell_type": "code",
   "execution_count": 3,
   "metadata": {
    "colab": {},
    "colab_type": "code",
    "id": "sR0Eym1vqTxp"
   },
   "outputs": [
    {
     "data": {
      "text/plain": [
       "False"
      ]
     },
     "execution_count": 3,
     "metadata": {},
     "output_type": "execute_result"
    }
   ],
   "source": [
    "not 1==1 # it is kind of negation"
   ]
  },
  {
   "cell_type": "code",
   "execution_count": 4,
   "metadata": {
    "colab": {
     "base_uri": "https://localhost:8080/",
     "height": 34
    },
    "colab_type": "code",
    "executionInfo": {
     "elapsed": 1151,
     "status": "ok",
     "timestamp": 1599719299754,
     "user": {
      "displayName": "George Piatsky",
      "photoUrl": "",
      "userId": "11871908103632217156"
     },
     "user_tz": -180
    },
    "id": "fVRKLKB5qTxq",
    "outputId": "15efa6dd-23b5-4e93-994d-804d642b889d"
   },
   "outputs": [
    {
     "data": {
      "text/plain": [
       "False"
      ]
     },
     "execution_count": 4,
     "metadata": {},
     "output_type": "execute_result"
    }
   ],
   "source": [
    "2>3"
   ]
  },
  {
   "cell_type": "code",
   "execution_count": 5,
   "metadata": {
    "colab": {
     "base_uri": "https://localhost:8080/",
     "height": 34
    },
    "colab_type": "code",
    "executionInfo": {
     "elapsed": 1620,
     "status": "ok",
     "timestamp": 1599719300237,
     "user": {
      "displayName": "George Piatsky",
      "photoUrl": "",
      "userId": "11871908103632217156"
     },
     "user_tz": -180
    },
    "id": "RN4YpANiqTxs",
    "outputId": "106e604d-8934-4a79-abb9-a272d5e12ae2"
   },
   "outputs": [
    {
     "data": {
      "text/plain": [
       "True"
      ]
     },
     "execution_count": 5,
     "metadata": {},
     "output_type": "execute_result"
    }
   ],
   "source": [
    "1==1 or 2>3 # it is kind of disjunction"
   ]
  },
  {
   "cell_type": "code",
   "execution_count": 6,
   "metadata": {
    "colab": {
     "base_uri": "https://localhost:8080/",
     "height": 34
    },
    "colab_type": "code",
    "executionInfo": {
     "elapsed": 1615,
     "status": "ok",
     "timestamp": 1599719300238,
     "user": {
      "displayName": "George Piatsky",
      "photoUrl": "",
      "userId": "11871908103632217156"
     },
     "user_tz": -180
    },
    "id": "igQkDdzyqTxu",
    "outputId": "f104cd99-0c70-411c-f9e5-6b2975b4c122"
   },
   "outputs": [
    {
     "data": {
      "text/plain": [
       "False"
      ]
     },
     "execution_count": 6,
     "metadata": {},
     "output_type": "execute_result"
    }
   ],
   "source": [
    "11 and 2>3 # it is kind of conjunction"
   ]
  },
  {
   "cell_type": "code",
   "execution_count": 7,
   "metadata": {
    "colab": {
     "base_uri": "https://localhost:8080/",
     "height": 52
    },
    "colab_type": "code",
    "executionInfo": {
     "elapsed": 792,
     "status": "ok",
     "timestamp": 1600176649870,
     "user": {
      "displayName": "Georgii Zhulikov",
      "photoUrl": "https://lh3.googleusercontent.com/a-/AOh14Giiw9KeBGHLuSFSbGbBOInNZfbi9tDn5rdzWTuqYg=s64",
      "userId": "04047607669073150518"
     },
     "user_tz": -180
    },
    "id": "dbGl97YsqTxw",
    "outputId": "7f85a13f-2f4f-45a3-dc6c-b0c1e95ce135"
   },
   "outputs": [
    {
     "name": "stdout",
     "output_type": "stream",
     "text": [
      "False\n",
      "odd\n"
     ]
    }
   ],
   "source": [
    "isEven = 9 % 2 == 0\n",
    "print(isEven)\n",
    "\n",
    "\n",
    "if isEven == True:\n",
    "    print('even')\n",
    "else:\n",
    "    print('odd')"
   ]
  },
  {
   "cell_type": "code",
   "execution_count": 8,
   "metadata": {
    "colab": {
     "base_uri": "https://localhost:8080/",
     "height": 34
    },
    "colab_type": "code",
    "executionInfo": {
     "elapsed": 1238,
     "status": "ok",
     "timestamp": 1600165095107,
     "user": {
      "displayName": "Georgii Zhulikov",
      "photoUrl": "https://lh3.googleusercontent.com/a-/AOh14Giiw9KeBGHLuSFSbGbBOInNZfbi9tDn5rdzWTuqYg=s64",
      "userId": "04047607669073150518"
     },
     "user_tz": -180
    },
    "id": "LPD8jUBCqTxy",
    "outputId": "51907c77-3115-4fcd-c5a5-33620d63beeb"
   },
   "outputs": [
    {
     "data": {
      "text/plain": [
       "(0, 1)"
      ]
     },
     "execution_count": 8,
     "metadata": {},
     "output_type": "execute_result"
    }
   ],
   "source": [
    "int(isEven), int(not isEven)"
   ]
  },
  {
   "cell_type": "code",
   "execution_count": 9,
   "metadata": {
    "colab": {
     "base_uri": "https://localhost:8080/",
     "height": 34
    },
    "colab_type": "code",
    "executionInfo": {
     "elapsed": 943,
     "status": "ok",
     "timestamp": 1600176515264,
     "user": {
      "displayName": "Georgii Zhulikov",
      "photoUrl": "https://lh3.googleusercontent.com/a-/AOh14Giiw9KeBGHLuSFSbGbBOInNZfbi9tDn5rdzWTuqYg=s64",
      "userId": "04047607669073150518"
     },
     "user_tz": -180
    },
    "id": "MMmaiW5HqTx0",
    "outputId": "f59e7881-477f-424c-9526-109b2058a9a6"
   },
   "outputs": [
    {
     "data": {
      "text/plain": [
       "(2, 1)"
      ]
     },
     "execution_count": 9,
     "metadata": {},
     "output_type": "execute_result"
    }
   ],
   "source": [
    "1 + int(True), True + False"
   ]
  },
  {
   "cell_type": "code",
   "execution_count": 10,
   "metadata": {
    "colab": {
     "base_uri": "https://localhost:8080/",
     "height": 34
    },
    "colab_type": "code",
    "executionInfo": {
     "elapsed": 1599,
     "status": "ok",
     "timestamp": 1599719300241,
     "user": {
      "displayName": "George Piatsky",
      "photoUrl": "",
      "userId": "11871908103632217156"
     },
     "user_tz": -180
    },
    "id": "4Vpplk5eqTx2",
    "outputId": "e2bcac6f-63f0-434e-e484-f2abd8abb6fb"
   },
   "outputs": [
    {
     "name": "stdout",
     "output_type": "stream",
     "text": [
      "y is greater than x\n"
     ]
    }
   ],
   "source": [
    "x = 10\n",
    "y = 20\n",
    "# standart indentation \n",
    "if y > x: # true\n",
    "    print(\"y is greater than x\")"
   ]
  },
  {
   "cell_type": "code",
   "execution_count": 11,
   "metadata": {
    "colab": {
     "base_uri": "https://localhost:8080/",
     "height": 50
    },
    "colab_type": "code",
    "executionInfo": {
     "elapsed": 1596,
     "status": "ok",
     "timestamp": 1599719300242,
     "user": {
      "displayName": "George Piatsky",
      "photoUrl": "",
      "userId": "11871908103632217156"
     },
     "user_tz": -180
    },
    "id": "C6Dx94S7qTx5",
    "outputId": "24f75c53-6eb8-4c82-97d7-273a8c950ab8"
   },
   "outputs": [
    {
     "name": "stdout",
     "output_type": "stream",
     "text": [
      "y is greater than x\n",
      "\n"
     ]
    }
   ],
   "source": [
    "# short   \n",
    "if y > x: print(\"y is greater than x\"); print(\"\"); y = y+x;"
   ]
  },
  {
   "cell_type": "code",
   "execution_count": 12,
   "metadata": {
    "colab": {
     "base_uri": "https://localhost:8080/",
     "height": 67
    },
    "colab_type": "code",
    "executionInfo": {
     "elapsed": 31737,
     "status": "ok",
     "timestamp": 1599719330389,
     "user": {
      "displayName": "George Piatsky",
      "photoUrl": "",
      "userId": "11871908103632217156"
     },
     "user_tz": -180
    },
    "id": "akKHVRULqTx6",
    "outputId": "40873dff-8e72-4790-aa75-0b19890a04ff"
   },
   "outputs": [
    {
     "name": "stdout",
     "output_type": "stream",
     "text": [
      "x=425\n",
      "y=43\n",
      "x and y are not equal\n"
     ]
    }
   ],
   "source": [
    "x = int(input(\"x=\"))\n",
    "y = int(input(\"y=\"))\n",
    "if x == y:\n",
    "    print(\"x and y are equal\")\n",
    "else:\n",
    "    print(\"x and y are not equal\")"
   ]
  },
  {
   "cell_type": "code",
   "execution_count": 13,
   "metadata": {
    "colab": {
     "base_uri": "https://localhost:8080/",
     "height": 67
    },
    "colab_type": "code",
    "executionInfo": {
     "elapsed": 37762,
     "status": "ok",
     "timestamp": 1599719336418,
     "user": {
      "displayName": "George Piatsky",
      "photoUrl": "",
      "userId": "11871908103632217156"
     },
     "user_tz": -180
    },
    "id": "EC-k3cmgqTx8",
    "outputId": "bccf55ec-f178-4c3a-c1a0-3ebb8c3e2033"
   },
   "outputs": [
    {
     "name": "stdout",
     "output_type": "stream",
     "text": [
      "x=435\n",
      "y=5\n",
      "x is greater than y\n"
     ]
    }
   ],
   "source": [
    "x = int(input(\"x=\"))\n",
    "y = int(input(\"y=\"))\n",
    "if y > x:\n",
    "    print(\"y is greater than x\")\n",
    "elif x > y:\n",
    "    print(\"x is greater than y\")    \n",
    "else:\n",
    "    print(\"x and y are equal\")"
   ]
  },
  {
   "cell_type": "code",
   "execution_count": 14,
   "metadata": {
    "colab": {
     "base_uri": "https://localhost:8080/",
     "height": 50
    },
    "colab_type": "code",
    "executionInfo": {
     "elapsed": 42530,
     "status": "ok",
     "timestamp": 1599719341190,
     "user": {
      "displayName": "George Piatsky",
      "photoUrl": "",
      "userId": "11871908103632217156"
     },
     "user_tz": -180
    },
    "id": "Hg-wApOMqTx-",
    "outputId": "1f8b8d19-9178-4819-acc6-968efc56e6ff"
   },
   "outputs": [
    {
     "name": "stdout",
     "output_type": "stream",
     "text": [
      "x=245\n",
      "y=453\n"
     ]
    }
   ],
   "source": [
    "x = int(input(\"x=\"))\n",
    "y = int(input(\"y=\"))"
   ]
  },
  {
   "cell_type": "code",
   "execution_count": 15,
   "metadata": {
    "colab": {
     "base_uri": "https://localhost:8080/",
     "height": 34
    },
    "colab_type": "code",
    "executionInfo": {
     "elapsed": 42531,
     "status": "ok",
     "timestamp": 1599719341197,
     "user": {
      "displayName": "George Piatsky",
      "photoUrl": "",
      "userId": "11871908103632217156"
     },
     "user_tz": -180
    },
    "id": "Zt5sRu9QqTx_",
    "outputId": "d4879607-3b5c-4d27-d49f-0ab74d770de0"
   },
   "outputs": [
    {
     "name": "stdout",
     "output_type": "stream",
     "text": [
      "Y\n",
      "Y\n"
     ]
    }
   ],
   "source": [
    "print(\"X\") if x > y else print(\"Y\") #one line if statement\n",
    "\n",
    "if x > y:\n",
    "    print (\"X\")\n",
    "else:\n",
    "    print (\"Y\")"
   ]
  },
  {
   "cell_type": "code",
   "execution_count": 16,
   "metadata": {
    "colab": {
     "base_uri": "https://localhost:8080/",
     "height": 34
    },
    "colab_type": "code",
    "executionInfo": {
     "elapsed": 42528,
     "status": "ok",
     "timestamp": 1599719341198,
     "user": {
      "displayName": "George Piatsky",
      "photoUrl": "",
      "userId": "11871908103632217156"
     },
     "user_tz": -180
    },
    "id": "3WEK9HHLqTyB",
    "outputId": "766e0769-a6b0-4c9b-a608-74907454f800"
   },
   "outputs": [
    {
     "name": "stdout",
     "output_type": "stream",
     "text": [
      "Y\n"
     ]
    }
   ],
   "source": [
    "print(\"X\") if x > y else print(\"equal\") if x == y else print(\"Y\") ### more complex one line if statement"
   ]
  },
  {
   "cell_type": "markdown",
   "metadata": {
    "colab_type": "text",
    "id": "lxOPSQooqTyC"
   },
   "source": [
    "## Logical operators"
   ]
  },
  {
   "cell_type": "code",
   "execution_count": 17,
   "metadata": {
    "colab": {},
    "colab_type": "code",
    "executionInfo": {
     "elapsed": 713,
     "status": "ok",
     "timestamp": 1600176838588,
     "user": {
      "displayName": "Georgii Zhulikov",
      "photoUrl": "https://lh3.googleusercontent.com/a-/AOh14Giiw9KeBGHLuSFSbGbBOInNZfbi9tDn5rdzWTuqYg=s64",
      "userId": "04047607669073150518"
     },
     "user_tz": -180
    },
    "id": "48pYqHNIqTyD"
   },
   "outputs": [],
   "source": [
    "a,b,c,d = 1,2,3,4"
   ]
  },
  {
   "cell_type": "code",
   "execution_count": 18,
   "metadata": {
    "colab": {
     "base_uri": "https://localhost:8080/",
     "height": 34
    },
    "colab_type": "code",
    "executionInfo": {
     "elapsed": 42522,
     "status": "ok",
     "timestamp": 1599719341201,
     "user": {
      "displayName": "George Piatsky",
      "photoUrl": "",
      "userId": "11871908103632217156"
     },
     "user_tz": -180
    },
    "id": "_ahIAVBZqTyF",
    "outputId": "0df18991-d480-4ea2-fa4a-968c45182e0e"
   },
   "outputs": [
    {
     "name": "stdout",
     "output_type": "stream",
     "text": [
      "At least one of the conditions is True\n"
     ]
    }
   ],
   "source": [
    "if a < b or a < c:\n",
    "    print(\"At least one of the conditions is True\")"
   ]
  },
  {
   "cell_type": "code",
   "execution_count": 19,
   "metadata": {
    "colab": {
     "base_uri": "https://localhost:8080/",
     "height": 34
    },
    "colab_type": "code",
    "executionInfo": {
     "elapsed": 42518,
     "status": "ok",
     "timestamp": 1599719341202,
     "user": {
      "displayName": "George Piatsky",
      "photoUrl": "",
      "userId": "11871908103632217156"
     },
     "user_tz": -180
    },
    "id": "ljdbZEP9ss-l",
    "outputId": "1495455c-e9f5-4d24-9bb8-3f15da697ba3"
   },
   "outputs": [
    {
     "name": "stdout",
     "output_type": "stream",
     "text": [
      "Condition satisfied\n"
     ]
    }
   ],
   "source": [
    "if a < b < c:\n",
    "    print(\"Condition satisfied\")"
   ]
  },
  {
   "cell_type": "code",
   "execution_count": 20,
   "metadata": {
    "colab": {
     "base_uri": "https://localhost:8080/",
     "height": 34
    },
    "colab_type": "code",
    "executionInfo": {
     "elapsed": 42516,
     "status": "ok",
     "timestamp": 1599719341204,
     "user": {
      "displayName": "George Piatsky",
      "photoUrl": "",
      "userId": "11871908103632217156"
     },
     "user_tz": -180
    },
    "id": "Pm_kLVtvqTyG",
    "outputId": "6fb99b4c-ea15-4b26-a1b7-14bbb78c32f6"
   },
   "outputs": [
    {
     "name": "stdout",
     "output_type": "stream",
     "text": [
      "All conditions are True\n"
     ]
    }
   ],
   "source": [
    "if a < b and a < c:\n",
    "    print(\"All conditions are True\")"
   ]
  },
  {
   "cell_type": "code",
   "execution_count": 21,
   "metadata": {
    "colab": {
     "base_uri": "https://localhost:8080/",
     "height": 219
    },
    "colab_type": "code",
    "executionInfo": {
     "elapsed": 1648,
     "status": "error",
     "timestamp": 1600180029600,
     "user": {
      "displayName": "Georgii Zhulikov",
      "photoUrl": "https://lh3.googleusercontent.com/a-/AOh14Giiw9KeBGHLuSFSbGbBOInNZfbi9tDn5rdzWTuqYg=s64",
      "userId": "04047607669073150518"
     },
     "user_tz": -180
    },
    "id": "A8JM-7sUqTyJ",
    "outputId": "636f2e0e-7e3a-4f88-82ed-f3a5b5fe0799"
   },
   "outputs": [
    {
     "name": "stdout",
     "output_type": "stream",
     "text": [
      "Complex conditions example is False\n"
     ]
    }
   ],
   "source": [
    "# first_condition = c<b or d<a\n",
    "\n",
    "if not (c<b or d<a) and (a<b):\n",
    "    print(\"Complex conditions example is False\")"
   ]
  },
  {
   "cell_type": "markdown",
   "metadata": {
    "colab_type": "text",
    "id": "SWJcB4Ng-Oz4"
   },
   "source": [
    "## An example problem\n",
    "\n",
    "You get coordinates of two chess board cells: x1, y1, x2, y2.\n",
    "\n",
    "Determine if a knight can reach the cell [x2, y2] in a single move, starting from the cell [x1, y1].\n",
    "\n",
    "A knight's moves are the following (two cells in one direction, then one cell in a perpendicular direction):\n",
    "\n",
    "```\n",
    "...*.*..\n",
    "..*...*.\n",
    "....K...\n",
    "..*...*.\n",
    "...*.*..\n",
    "```\n",
    "\n",
    "Print \"YES\" if the knight can reach the cell [x2, y2] in a single move. Otherwise, print \"NO\".\n"
   ]
  },
  {
   "cell_type": "code",
   "execution_count": 22,
   "metadata": {
    "colab": {},
    "colab_type": "code",
    "id": "erWDdW3D-OGr"
   },
   "outputs": [
    {
     "name": "stdout",
     "output_type": "stream",
     "text": [
      "YES\n",
      "YES\n",
      "YES\n",
      "YES\n",
      "YES\n",
      "YES\n",
      "YES\n",
      "YES\n",
      "NO\n",
      "NO\n",
      "NO\n",
      "NO\n"
     ]
    }
   ],
   "source": [
    "K = [4, 2]\n",
    "asterisks = [\n",
    "    [3, 0],\n",
    "    [5, 0],\n",
    "    [3, 4],\n",
    "    [5, 4],\n",
    "    [2, 1],\n",
    "    [6, 1],\n",
    "    [2, 3],\n",
    "    [6, 3],\n",
    "    [-11, 3],\n",
    "    [4, 20],\n",
    "    [0, 9],\n",
    "    [-99, -99]\n",
    "]\n",
    "\n",
    "for asterisk in asterisks:\n",
    "    if K[0]-2==asterisk[0] and K[1]-1==asterisk[1]:\n",
    "        print('YES')\n",
    "    elif K[0]-2==asterisk[0] and K[1]+1==asterisk[1]:\n",
    "        print('YES')\n",
    "    elif K[0]+2==asterisk[0] and K[1]-1==asterisk[1]:\n",
    "        print('YES')\n",
    "    elif K[0]+2==asterisk[0] and K[1]+1==asterisk[1]:\n",
    "        print('YES')\n",
    "    elif K[0]-1==asterisk[0] and K[1]-2==asterisk[1]:\n",
    "        print('YES')\n",
    "    elif K[0]-1==asterisk[0] and K[1]+2==asterisk[1]:\n",
    "        print('YES')\n",
    "    elif K[0]+1==asterisk[0] and K[1]-2==asterisk[1]:\n",
    "        print('YES')\n",
    "    elif K[0]+1==asterisk[0] and K[1]+2==asterisk[1]:\n",
    "        print('YES')\n",
    "    else:\n",
    "        print('NO')"
   ]
  },
  {
   "cell_type": "markdown",
   "metadata": {
    "colab_type": "text",
    "id": "AnHsmxRF51V7"
   },
   "source": [
    "# While loops and inputting sequences\n",
    "\n",
    "A simple loop:"
   ]
  },
  {
   "cell_type": "code",
   "execution_count": 23,
   "metadata": {
    "colab": {
     "base_uri": "https://localhost:8080/",
     "height": 191
    },
    "colab_type": "code",
    "executionInfo": {
     "elapsed": 807,
     "status": "ok",
     "timestamp": 1600167085523,
     "user": {
      "displayName": "Georgii Zhulikov",
      "photoUrl": "https://lh3.googleusercontent.com/a-/AOh14Giiw9KeBGHLuSFSbGbBOInNZfbi9tDn5rdzWTuqYg=s64",
      "userId": "04047607669073150518"
     },
     "user_tz": -180
    },
    "id": "46tPccBz9WmQ",
    "outputId": "cfdba873-a0ac-4fb6-fda3-d6e07b6b4f19"
   },
   "outputs": [
    {
     "name": "stdout",
     "output_type": "stream",
     "text": [
      "1\n",
      "2\n",
      "3\n",
      "4\n",
      "5\n",
      "6\n",
      "7\n",
      "8\n",
      "9\n",
      "10\n"
     ]
    }
   ],
   "source": [
    "n = 10\n",
    "i = 1\n",
    "while i <= n:\n",
    "    print(i)\n",
    "    i = i + 1"
   ]
  },
  {
   "cell_type": "markdown",
   "metadata": {
    "colab_type": "text",
    "id": "CCtUMOC69w25"
   },
   "source": [
    "A loop for entering sequences of numbers terminated by 0."
   ]
  },
  {
   "cell_type": "code",
   "execution_count": 24,
   "metadata": {
    "colab": {
     "base_uri": "https://localhost:8080/",
     "height": 121
    },
    "colab_type": "code",
    "executionInfo": {
     "elapsed": 12029,
     "status": "ok",
     "timestamp": 1600167426615,
     "user": {
      "displayName": "Georgii Zhulikov",
      "photoUrl": "https://lh3.googleusercontent.com/a-/AOh14Giiw9KeBGHLuSFSbGbBOInNZfbi9tDn5rdzWTuqYg=s64",
      "userId": "04047607669073150518"
     },
     "user_tz": -180
    },
    "id": "bK6mwlB39o5e",
    "outputId": "fac0010c-a50f-4813-a6b6-2e32386c4c73"
   },
   "outputs": [
    {
     "name": "stdout",
     "output_type": "stream",
     "text": [
      "425435\n",
      "435\n",
      "345\n",
      "6534\n",
      "35\n",
      "345\n",
      "6\n",
      "5356\n",
      "345\n",
      "9\n",
      "-346\n",
      "3345\n",
      "-55\n",
      "-214\n",
      "-45636\n",
      "6\n",
      "345\n",
      "5634\n",
      "0\n",
      "-45636\n"
     ]
    }
   ],
   "source": [
    "current = int(input())\n",
    "minimum = current\n",
    "while current != 0:\n",
    "    if current < minimum:\n",
    "        minimum = current\n",
    "    current = int(input())\n",
    "\n",
    "print(minimum)"
   ]
  },
  {
   "cell_type": "markdown",
   "metadata": {
    "colab_type": "text",
    "id": "Zt65esVZ-LPS"
   },
   "source": [
    "Use the previous loop to make a program that finds a minimum value of a sequence.\n",
    "\n",
    "Use the same loop to make a program that computes a sum of a sequence."
   ]
  },
  {
   "cell_type": "markdown",
   "metadata": {
    "colab_type": "text",
    "id": "1LQNgIBk_4sP"
   },
   "source": [
    "## break and continue\n",
    "\n",
    "An alternative way of stopping the loop is to use the keyword `break`. \n",
    "\n",
    "The keyword `continue` stops the current iteration of the loop and starts the next one."
   ]
  },
  {
   "cell_type": "code",
   "execution_count": 25,
   "metadata": {
    "colab": {
     "base_uri": "https://localhost:8080/",
     "height": 139
    },
    "colab_type": "code",
    "executionInfo": {
     "elapsed": 1169,
     "status": "ok",
     "timestamp": 1600180130797,
     "user": {
      "displayName": "Georgii Zhulikov",
      "photoUrl": "https://lh3.googleusercontent.com/a-/AOh14Giiw9KeBGHLuSFSbGbBOInNZfbi9tDn5rdzWTuqYg=s64",
      "userId": "04047607669073150518"
     },
     "user_tz": -180
    },
    "id": "8CUroqfVACeo",
    "outputId": "9339b2ce-bd9c-4d37-8e3d-b34ec71b974b"
   },
   "outputs": [
    {
     "name": "stdout",
     "output_type": "stream",
     "text": [
      "1\n",
      "There is an else\n",
      "2\n",
      "There is an else\n",
      "3\n",
      "There is an else\n",
      "4\n"
     ]
    }
   ],
   "source": [
    "i = 1\n",
    "while i < 10:\n",
    "    print(i)\n",
    "    i = i + 1\n",
    "    if i > 4:\n",
    "        break\n",
    "        print('After {}'.format(i-1))\n",
    "    else:\n",
    "        print('There is an else')"
   ]
  },
  {
   "cell_type": "code",
   "execution_count": 26,
   "metadata": {
    "colab": {
     "base_uri": "https://localhost:8080/",
     "height": 260
    },
    "colab_type": "code",
    "executionInfo": {
     "elapsed": 721,
     "status": "ok",
     "timestamp": 1600168378990,
     "user": {
      "displayName": "Georgii Zhulikov",
      "photoUrl": "https://lh3.googleusercontent.com/a-/AOh14Giiw9KeBGHLuSFSbGbBOInNZfbi9tDn5rdzWTuqYg=s64",
      "userId": "04047607669073150518"
     },
     "user_tz": -180
    },
    "id": "MCnN6kd_BDfY",
    "outputId": "1cc6da72-4f7f-4273-e719-b18b3bdd62a3"
   },
   "outputs": [
    {
     "name": "stdout",
     "output_type": "stream",
     "text": [
      "1 is not divisible by 3\n",
      "2 is not divisible by 3\n",
      "4 is not divisible by 3\n",
      "5 is not divisible by 3\n",
      "7 is not divisible by 3\n",
      "8 is not divisible by 3\n",
      "10 is not divisible by 3\n",
      "11 is not divisible by 3\n",
      "13 is not divisible by 3\n",
      "14 is not divisible by 3\n",
      "16 is not divisible by 3\n",
      "17 is not divisible by 3\n",
      "19 is not divisible by 3\n",
      "20 is not divisible by 3\n"
     ]
    }
   ],
   "source": [
    "i = 0\n",
    "while i <= 20:\n",
    "    i = i + 1\n",
    "    if i % 3 == 0:\n",
    "        continue\n",
    "    print('{} is not divisible by 3'.format(i))"
   ]
  },
  {
   "cell_type": "code",
   "execution_count": null,
   "metadata": {},
   "outputs": [],
   "source": []
  }
 ],
 "metadata": {
  "colab": {
   "collapsed_sections": [],
   "name": "Workshop 2.ipynb",
   "provenance": []
  },
  "kernelspec": {
   "display_name": "Python 3 (ipykernel)",
   "language": "python",
   "name": "python3"
  },
  "language_info": {
   "codemirror_mode": {
    "name": "ipython",
    "version": 3
   },
   "file_extension": ".py",
   "mimetype": "text/x-python",
   "name": "python",
   "nbconvert_exporter": "python",
   "pygments_lexer": "ipython3",
   "version": "3.9.13"
  }
 },
 "nbformat": 4,
 "nbformat_minor": 1
}
