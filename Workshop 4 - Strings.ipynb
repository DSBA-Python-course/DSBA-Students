{
  "cells": [
    {
      "cell_type": "markdown",
      "metadata": {
        "id": "iAKOgDi3in4R"
      },
      "source": [
        "# Strings\n",
        "\n",
        "The Python string data type is a sequence made up of one or more individual characters that could consist of letters, numbers, whitespace characters, or symbols. Because a string is a sequence, it can be accessed in the same ways that other sequence-based data types are, through indexing and slicing."
      ]
    },
    {
      "cell_type": "code",
      "execution_count": null,
      "metadata": {
        "id": "G2OCByIobhPb",
        "outputId": "53647205-41ae-4ddf-fd21-42ebaba11427"
      },
      "outputs": [
        {
          "name": "stdout",
          "output_type": "stream",
          "text": [
            "It is new one___It is new one+++It is new one___It is new one\n"
          ]
        }
      ],
      "source": [
        "a = \"привет\"\n",
        "it_is_myString = 'It is new one'\n",
        "it_is_myString_second = \"It is new one\"\n",
        "\n",
        "print(it_is_myString, it_is_myString_second, sep='___', end='+++')\n",
        "print(it_is_myString, it_is_myString_second, sep='___')"
      ]
    },
    {
      "cell_type": "markdown",
      "metadata": {
        "id": "tj_MMSRgbUG5"
      },
      "source": [
        "r'ABC' - raw string. Python raw string treats backslash (\\) as a literal character\n",
        "\n",
        "u'ABC' or just 'ABC' - unicode string. Sequence of unicode characters. Each character may be encoded in several bytes\n",
        "\n",
        "b'ABC' - bytes string. Each element is a byte or char. Can be stored on disk\n",
        "\n",
        "f'ABC' - format string. Designed to apply formatting techniques"
      ]
    },
    {
      "cell_type": "markdown",
      "metadata": {
        "id": "SI1PKje-cyRa"
      },
      "source": [
        "![string-vs-byte-in-python.png](data:image/png;base64,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)"
      ]
    },
    {
      "cell_type": "markdown",
      "metadata": {
        "id": "Ks2ko682eLb2"
      },
      "source": [
        "Raw String"
      ]
    },
    {
      "cell_type": "code",
      "execution_count": null,
      "metadata": {
        "colab": {
          "base_uri": "https://localhost:8080/",
          "height": 35
        },
        "id": "Go5FJBH0eND1",
        "outputId": "fdd92942-f6ee-4932-ec8a-10c6786b198e"
      },
      "outputs": [
        {
          "name": "stdout",
          "output_type": "stream",
          "text": [
            "a\\nb\n"
          ]
        }
      ],
      "source": [
        "print(r'a\\nb') # escaping \\"
      ]
    },
    {
      "cell_type": "code",
      "execution_count": null,
      "metadata": {
        "id": "m1Ju0wf9EJ7G",
        "outputId": "6106b998-99e4-450d-842a-497144307ff1"
      },
      "outputs": [
        {
          "name": "stdout",
          "output_type": "stream",
          "text": [
            "First\\nSecond\\nThird\n"
          ]
        }
      ],
      "source": [
        "print(r'First\\nSecond\\nThird')"
      ]
    },
    {
      "cell_type": "code",
      "execution_count": null,
      "metadata": {
        "colab": {
          "base_uri": "https://localhost:8080/",
          "height": 54
        },
        "id": "5WAu3u3QeTJL",
        "outputId": "f6c81be7-1d1e-48cc-e7ab-4e50674fbb46"
      },
      "outputs": [
        {
          "name": "stdout",
          "output_type": "stream",
          "text": [
            "a\n",
            "b\n"
          ]
        }
      ],
      "source": [
        "print('a\\nb')  # reading \\n as new-line symbol"
      ]
    },
    {
      "cell_type": "markdown",
      "metadata": {
        "id": "kHlkH8VreHts"
      },
      "source": [
        "Encode / Decode"
      ]
    },
    {
      "cell_type": "code",
      "execution_count": null,
      "metadata": {
        "colab": {
          "base_uri": "https://localhost:8080/",
          "height": 35
        },
        "id": "4XFEgHrydJ-D",
        "outputId": "a4a71d35-12c0-4093-91a6-6ce6903497b6"
      },
      "outputs": [
        {
          "data": {
            "text/plain": [
              "b'\\xd0\\xa1\\xd1\\x82\\xd1\\x80\\xd0\\xbe\\xd0\\xba\\xd0\\xb0 \\xd0\\xbd\\xd0\\xb0 \\xd1\\x80\\xd1\\x83\\xd1\\x81\\xd1\\x81\\xd0\\xba\\xd0\\xbe\\xd0\\xbc'"
            ]
          },
          "execution_count": 5,
          "metadata": {},
          "output_type": "execute_result"
        }
      ],
      "source": [
        "# Unicode to bytes\n",
        "a = 'Строка на русском'\n",
        "a.encode()"
      ]
    },
    {
      "cell_type": "code",
      "execution_count": null,
      "metadata": {
        "colab": {
          "base_uri": "https://localhost:8080/",
          "height": 36
        },
        "id": "OeNvFv6cdXoS",
        "outputId": "78c01b69-2e36-43fb-8eec-387698d94628"
      },
      "outputs": [
        {
          "data": {
            "text/plain": [
              "'Строка на русском'"
            ]
          },
          "execution_count": 6,
          "metadata": {},
          "output_type": "execute_result"
        }
      ],
      "source": [
        "# Bytes to Unicode\n",
        "b'\\xd0\\xa1\\xd1\\x82\\xd1\\x80\\xd0\\xbe\\xd0\\xba\\xd0\\xb0 \\xd0\\xbd\\xd0\\xb0 \\xd1\\x80\\xd1\\x83\\xd1\\x81\\xd1\\x81\\xd0\\xba\\xd0\\xbe\\xd0\\xbc'.decode()"
      ]
    },
    {
      "cell_type": "markdown",
      "metadata": {
        "id": "7CpKqroZeknj"
      },
      "source": [
        "Format string"
      ]
    },
    {
      "cell_type": "code",
      "execution_count": null,
      "metadata": {
        "colab": {
          "base_uri": "https://localhost:8080/",
          "height": 36
        },
        "id": "5RlpGK8CemUR",
        "outputId": "ea8b0951-a995-4c29-fd88-2cfaa4ea709c"
      },
      "outputs": [
        {
          "name": "stdout",
          "output_type": "stream",
          "text": [
            "It is my variable my_age: 10, town: Tver'\n"
          ]
        }
      ],
      "source": [
        "# Formatting string without format or %. No more code duplication!\n",
        "\n",
        "a = 'some variable'\n",
        "f'y = {a + \" Y\"} + x'\n",
        "\n",
        "\n",
        "my_age = 10\n",
        "town = 'Tver\\''\n",
        "\n",
        "f_string_example = f'It is my variable my_age: {my_age}, town: {town}'\n",
        "print(f_string_example)"
      ]
    },
    {
      "cell_type": "markdown",
      "metadata": {
        "id": "ZEB8mYFckQiR"
      },
      "source": [
        "## Arithmetic operations\n",
        "\n",
        "Several arithmetic operations available when working with strings"
      ]
    },
    {
      "cell_type": "code",
      "execution_count": null,
      "metadata": {
        "colab": {
          "base_uri": "https://localhost:8080/",
          "height": 35
        },
        "id": "tk0Oj5dcip8J",
        "outputId": "e0586fc0-6b29-4f7a-d452-03558e376181"
      },
      "outputs": [
        {
          "data": {
            "text/plain": [
              "'abcdef'"
            ]
          },
          "execution_count": 8,
          "metadata": {},
          "output_type": "execute_result"
        }
      ],
      "source": [
        "# Concatenation\n",
        "'abc' + 'def'"
      ]
    },
    {
      "cell_type": "code",
      "execution_count": null,
      "metadata": {
        "colab": {
          "base_uri": "https://localhost:8080/",
          "height": 35
        },
        "id": "UiJNgA7Airhc",
        "outputId": "424f86b1-7118-4814-af8c-876887873e57"
      },
      "outputs": [
        {
          "data": {
            "text/plain": [
              "'abcabcabc'"
            ]
          },
          "execution_count": 9,
          "metadata": {},
          "output_type": "execute_result"
        }
      ],
      "source": [
        "# Duplication\n",
        "'abc' * 3"
      ]
    },
    {
      "cell_type": "markdown",
      "metadata": {
        "id": "DiUkeu21hx2K"
      },
      "source": [
        "# Size of the string"
      ]
    },
    {
      "cell_type": "code",
      "execution_count": null,
      "metadata": {
        "id": "4LW-GtwwEJ7v",
        "outputId": "46c61bcb-27c0-411b-9bb1-5e00bcbe2d61"
      },
      "outputs": [
        {
          "data": {
            "text/plain": [
              "0"
            ]
          },
          "execution_count": 10,
          "metadata": {},
          "output_type": "execute_result"
        }
      ],
      "source": [
        "len('')"
      ]
    },
    {
      "cell_type": "code",
      "execution_count": null,
      "metadata": {
        "colab": {
          "base_uri": "https://localhost:8080/",
          "height": 35
        },
        "id": "ZRfHJbpjhwZi",
        "outputId": "2f211aeb-c0a8-4df8-e51b-7ca9286bb30f"
      },
      "outputs": [
        {
          "data": {
            "text/plain": [
              "6"
            ]
          },
          "execution_count": 11,
          "metadata": {},
          "output_type": "execute_result"
        }
      ],
      "source": [
        "len('abcdef')"
      ]
    },
    {
      "cell_type": "markdown",
      "metadata": {
        "id": "0RqS_S6If1m1"
      },
      "source": [
        "# Indexing\n",
        "\n",
        "![изображение.png](data:image/png;base64,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)\n",
        "\n"
      ]
    },
    {
      "cell_type": "code",
      "execution_count": null,
      "metadata": {
        "id": "5kNGxTLMEJ7-",
        "outputId": "7fbac335-f3d0-46cd-f681-4911a325e604"
      },
      "outputs": [
        {
          "name": "stdout",
          "output_type": "stream",
          "text": [
            "I\n",
            "t\n",
            " \n",
            "w\n",
            "a\n",
            "s\n",
            " \n",
            "m\n",
            "y\n",
            " \n",
            "f\n",
            "i\n",
            "r\n",
            "s\n",
            "t\n",
            " \n",
            "s\n",
            "t\n",
            "r\n",
            "i\n",
            "n\n",
            "g\n",
            ".\n"
          ]
        }
      ],
      "source": [
        "string_ = 'It was my first string.'\n",
        "\n",
        "for letter in string_:\n",
        "    print(letter)"
      ]
    },
    {
      "cell_type": "code",
      "execution_count": null,
      "metadata": {
        "colab": {
          "base_uri": "https://localhost:8080/",
          "height": 127
        },
        "id": "QLXldtXMhU8Z",
        "outputId": "97312411-d263-445f-cec5-9041287649dd"
      },
      "outputs": [
        {
          "name": "stdout",
          "output_type": "stream",
          "text": [
            "a\n",
            "b\n",
            "c\n",
            "d\n",
            "e\n",
            "f\n"
          ]
        }
      ],
      "source": [
        "a = 'abcdef'\n",
        "for symbol in a:\n",
        "    print(symbol)"
      ]
    },
    {
      "cell_type": "code",
      "execution_count": null,
      "metadata": {
        "id": "P1KrFqFUEJ8C",
        "outputId": "96888fbe-4eee-4d26-b841-caa39c361260"
      },
      "outputs": [
        {
          "name": "stdout",
          "output_type": "stream",
          "text": [
            "abcdef\n",
            "6\n",
            "[0, 1, 2, 3, 4, 5]\n"
          ]
        }
      ],
      "source": [
        "print(a)\n",
        "print(len(a))\n",
        "print(list(range(len(a))))"
      ]
    },
    {
      "cell_type": "code",
      "execution_count": null,
      "metadata": {
        "colab": {
          "base_uri": "https://localhost:8080/",
          "height": 127
        },
        "id": "0yoc4blZhd1c",
        "outputId": "39f51316-695d-4e56-c127-11c66be74e0b"
      },
      "outputs": [
        {
          "name": "stdout",
          "output_type": "stream",
          "text": [
            "0 a\n",
            "1 b\n",
            "2 c\n",
            "3 d\n",
            "4 e\n",
            "5 f\n"
          ]
        }
      ],
      "source": [
        "#range(N)\n",
        "#range(0, N)\n",
        "#range(0, N, s)\n",
        "\n",
        "for index in range(len(a)):\n",
        "    print(index, a[index])"
      ]
    },
    {
      "cell_type": "markdown",
      "metadata": {
        "id": "CUoM_mAUiUYk"
      },
      "source": [
        "# String in python - immutable object\n",
        "\n",
        "Result of all operations on string is another string.\n",
        "It is impossible to change the string in-place"
      ]
    },
    {
      "cell_type": "code",
      "execution_count": null,
      "metadata": {
        "colab": {
          "base_uri": "https://localhost:8080/",
          "height": 191
        },
        "id": "8en441eTiYyl",
        "outputId": "0908ed6f-78c8-46cf-89b9-a93efae724db"
      },
      "outputs": [
        {
          "ename": "TypeError",
          "evalue": "'str' object does not support item assignment",
          "output_type": "error",
          "traceback": [
            "\u001b[0;31m---------------------------------------------------------------------------\u001b[0m",
            "\u001b[0;31mTypeError\u001b[0m                                 Traceback (most recent call last)",
            "Input \u001b[0;32mIn [16]\u001b[0m, in \u001b[0;36m<cell line: 2>\u001b[0;34m()\u001b[0m\n\u001b[1;32m      1\u001b[0m a \u001b[38;5;241m=\u001b[39m \u001b[38;5;124m'\u001b[39m\u001b[38;5;124mabcdef\u001b[39m\u001b[38;5;124m'\u001b[39m\n\u001b[0;32m----> 2\u001b[0m \u001b[43ma\u001b[49m\u001b[43m[\u001b[49m\u001b[38;5;241;43m1\u001b[39;49m\u001b[43m]\u001b[49m \u001b[38;5;241m=\u001b[39m \u001b[38;5;124m'\u001b[39m\u001b[38;5;124mA\u001b[39m\u001b[38;5;124m'\u001b[39m\n",
            "\u001b[0;31mTypeError\u001b[0m: 'str' object does not support item assignment"
          ]
        }
      ],
      "source": [
        "a = 'abcdef'\n",
        "a[1] = 'A'"
      ]
    },
    {
      "cell_type": "markdown",
      "metadata": {
        "id": "APV-N8TPkOJa"
      },
      "source": [
        "## Slices\n",
        "\n",
        "We can also call out a range of characters from the string. With slices, we can call multiple character values by creating a range of index numbers separated by a colon [x:y]"
      ]
    },
    {
      "cell_type": "code",
      "execution_count": null,
      "metadata": {
        "id": "M13dY-dkiyNz"
      },
      "outputs": [],
      "source": [
        "# selections and slices\n",
        "a = 'abcdef'\n",
        "a[-len(a)+2]"
      ]
    },
    {
      "cell_type": "code",
      "execution_count": null,
      "metadata": {
        "id": "sy5BpdrZEJ8J"
      },
      "outputs": [],
      "source": [
        "a"
      ]
    },
    {
      "cell_type": "code",
      "execution_count": null,
      "metadata": {
        "id": "Ml-34252i5yz"
      },
      "outputs": [],
      "source": [
        "# Up to the fourth symbol\n",
        "a[-3:]"
      ]
    },
    {
      "cell_type": "code",
      "execution_count": null,
      "metadata": {
        "id": "mqQ3aQi2i600"
      },
      "outputs": [],
      "source": [
        "# Indexing from the end\n",
        "a[-3]"
      ]
    },
    {
      "cell_type": "markdown",
      "metadata": {
        "id": "uIeL29T5fkmQ"
      },
      "source": [
        "We can also specify the step of the slice. This parameter is called stride"
      ]
    },
    {
      "cell_type": "code",
      "execution_count": null,
      "metadata": {
        "id": "WbYas3MJEJ8L",
        "outputId": "4b723a41-475b-4eea-b564-859e3a414649"
      },
      "outputs": [
        {
          "name": "stdout",
          "output_type": "stream",
          "text": [
            "ponmlkjihgfedcba\n"
          ]
        }
      ],
      "source": [
        "cool = 'abcdefghijklmnop'\n",
        "print(cool[::-1])"
      ]
    },
    {
      "cell_type": "code",
      "execution_count": null,
      "metadata": {
        "colab": {
          "base_uri": "https://localhost:8080/",
          "height": 35
        },
        "id": "ag1Xssvbi7rD",
        "outputId": "12a192f3-afd1-431f-c3a8-a0982a93d9bd"
      },
      "outputs": [
        {
          "data": {
            "text/plain": [
              "'behkn'"
            ]
          },
          "execution_count": 18,
          "metadata": {},
          "output_type": "execute_result"
        }
      ],
      "source": [
        "# Step of the slice\n",
        "cool[1::3]"
      ]
    },
    {
      "cell_type": "code",
      "execution_count": null,
      "metadata": {
        "colab": {
          "base_uri": "https://localhost:8080/",
          "height": 35
        },
        "id": "j34wfYBsi_fJ",
        "outputId": "078ea43d-f712-4eae-acaa-3bd5c4d86c22"
      },
      "outputs": [
        {
          "data": {
            "text/plain": [
              "'fedcba'"
            ]
          },
          "execution_count": 19,
          "metadata": {},
          "output_type": "execute_result"
        }
      ],
      "source": [
        "# String revert\n",
        "a[::-1]"
      ]
    },
    {
      "cell_type": "code",
      "execution_count": null,
      "metadata": {
        "id": "cvDHyUE3EJ8P",
        "outputId": "ec2e0868-232f-4ca7-8470-93305da3c466"
      },
      "outputs": [
        {
          "data": {
            "text/plain": [
              "[1, 3]"
            ]
          },
          "execution_count": 20,
          "metadata": {},
          "output_type": "execute_result"
        }
      ],
      "source": [
        "list(range(1, 4, 2))"
      ]
    },
    {
      "cell_type": "code",
      "execution_count": null,
      "metadata": {
        "id": "ZvI0BwgsDWj5",
        "outputId": "35f4e974-b923-46a7-c150-6e39f060f979"
      },
      "outputs": [
        {
          "data": {
            "text/plain": [
              "'bd'"
            ]
          },
          "execution_count": 21,
          "metadata": {},
          "output_type": "execute_result"
        }
      ],
      "source": [
        "my_slice = slice(1, 4, 2)\n",
        "a[my_slice]"
      ]
    },
    {
      "cell_type": "markdown",
      "metadata": {
        "id": "Df1Qj-YNkUUT"
      },
      "source": [
        "## Sequences and strings"
      ]
    },
    {
      "cell_type": "code",
      "execution_count": null,
      "metadata": {
        "id": "Efj6kZQfEJ8U",
        "outputId": "3089bd9a-07ba-4dce-c611-bf4f7e735c1c"
      },
      "outputs": [
        {
          "data": {
            "text/plain": [
              "'Hello___student___Teksnfg___dfg. df g'"
            ]
          },
          "execution_count": 22,
          "metadata": {},
          "output_type": "execute_result"
        }
      ],
      "source": [
        "'___'.join(['Hello', 'student', 'Teksnfg', 'dfg. df g'])"
      ]
    },
    {
      "cell_type": "code",
      "execution_count": null,
      "metadata": {
        "colab": {
          "base_uri": "https://localhost:8080/",
          "height": 35
        },
        "id": "7ihyuVKMjLPt",
        "outputId": "5a822e3e-c8bb-4532-a3a3-24c907591e64"
      },
      "outputs": [
        {
          "data": {
            "text/plain": [
              "'Hello,,,student'"
            ]
          },
          "execution_count": 23,
          "metadata": {},
          "output_type": "execute_result"
        }
      ],
      "source": [
        "# joining string\n",
        "\",,,\".join(['Hello', 'student'])"
      ]
    },
    {
      "cell_type": "code",
      "execution_count": null,
      "metadata": {
        "colab": {
          "base_uri": "https://localhost:8080/",
          "height": 35
        },
        "id": "2_U1nZUrjc2_",
        "outputId": "cfd8df74-0cf0-4a3d-f40c-53f690ea2bfc"
      },
      "outputs": [
        {
          "data": {
            "text/plain": [
              "'Hello, student sfg dfeg df df gdf gdf fd sr'"
            ]
          },
          "execution_count": 24,
          "metadata": {},
          "output_type": "execute_result"
        }
      ],
      "source": [
        "# splitting string\n",
        "a = \"Hello, student                                      sfg dfeg df df gdf gdf fd sr\"\n",
        "' '.join(a.split())"
      ]
    },
    {
      "cell_type": "code",
      "execution_count": null,
      "metadata": {
        "id": "kclAH95gEJ8W"
      },
      "outputs": [],
      "source": [
        "?str.split"
      ]
    },
    {
      "cell_type": "markdown",
      "metadata": {
        "id": "YGMd-QLKkXLV"
      },
      "source": [
        "## Case functions"
      ]
    },
    {
      "cell_type": "code",
      "execution_count": null,
      "metadata": {
        "colab": {
          "base_uri": "https://localhost:8080/",
          "height": 35
        },
        "id": "j1eMVzNwjlwM",
        "outputId": "63a7a531-5689-493e-8c31-9d49e97588b4"
      },
      "outputs": [
        {
          "data": {
            "text/plain": [
              "'HELLO, TODAY IS A GOOOOOOD DAAAY'"
            ]
          },
          "execution_count": 26,
          "metadata": {},
          "output_type": "execute_result"
        }
      ],
      "source": [
        "# upper\n",
        "\n",
        "a = 'hello, ToDaY is a GOOOOOOD dAAAy'\n",
        "a.upper()"
      ]
    },
    {
      "cell_type": "code",
      "execution_count": null,
      "metadata": {
        "colab": {
          "base_uri": "https://localhost:8080/",
          "height": 35
        },
        "id": "xzAXKYdHjpaP",
        "outputId": "ffb76db5-3a79-471a-eb93-1a20fac4ac48"
      },
      "outputs": [
        {
          "data": {
            "text/plain": [
              "'hello, today is a gooooood daaay'"
            ]
          },
          "execution_count": 27,
          "metadata": {},
          "output_type": "execute_result"
        }
      ],
      "source": [
        "# lower\n",
        "a.lower()"
      ]
    },
    {
      "cell_type": "code",
      "execution_count": null,
      "metadata": {
        "colab": {
          "base_uri": "https://localhost:8080/",
          "height": 35
        },
        "id": "IjEVmc0GkCZs",
        "outputId": "3943ae0f-787e-4cf8-b3e4-9bbc58a107d5"
      },
      "outputs": [
        {
          "data": {
            "text/plain": [
              "'Hello, Today Is A Gooooood Daaay'"
            ]
          },
          "execution_count": 28,
          "metadata": {},
          "output_type": "execute_result"
        }
      ],
      "source": [
        "a.title()"
      ]
    },
    {
      "cell_type": "code",
      "execution_count": null,
      "metadata": {
        "colab": {
          "base_uri": "https://localhost:8080/",
          "height": 35
        },
        "id": "pFEcIVnrkHGP",
        "outputId": "3c2554eb-ec7d-4c8b-e0fc-d4a651f460b8"
      },
      "outputs": [
        {
          "data": {
            "text/plain": [
              "'HELLO, tOdAy IS A gooooood DaaaY'"
            ]
          },
          "execution_count": 29,
          "metadata": {},
          "output_type": "execute_result"
        }
      ],
      "source": [
        "# Change case\n",
        "a.swapcase()"
      ]
    },
    {
      "cell_type": "markdown",
      "metadata": {
        "id": "y6FRkFuvka5d"
      },
      "source": [
        "## String type"
      ]
    },
    {
      "cell_type": "code",
      "execution_count": null,
      "metadata": {
        "colab": {
          "base_uri": "https://localhost:8080/",
          "height": 34
        },
        "id": "RpaHtflnjq_L",
        "outputId": "556cfb0b-891c-4373-ed94-d9b893ca8f35"
      },
      "outputs": [
        {
          "data": {
            "text/plain": [
              "True"
            ]
          },
          "execution_count": 30,
          "metadata": {},
          "output_type": "execute_result"
        }
      ],
      "source": [
        "a = \"Hello5\"\n",
        "# is alphabetic symbol\n",
        "a[0].isalpha()"
      ]
    },
    {
      "cell_type": "code",
      "execution_count": null,
      "metadata": {
        "colab": {
          "base_uri": "https://localhost:8080/",
          "height": 34
        },
        "id": "RxdqMYkKjuYo",
        "outputId": "f60d071e-1f80-45b7-c22f-faea1ce033a2"
      },
      "outputs": [
        {
          "data": {
            "text/plain": [
              "True"
            ]
          },
          "execution_count": 31,
          "metadata": {},
          "output_type": "execute_result"
        }
      ],
      "source": [
        "a[-1].isdigit()"
      ]
    },
    {
      "cell_type": "code",
      "execution_count": null,
      "metadata": {
        "id": "a510-luFEJ8f"
      },
      "outputs": [],
      "source": [
        "?str.isdigit"
      ]
    },
    {
      "cell_type": "markdown",
      "metadata": {
        "id": "8OqrG4f_kl8b"
      },
      "source": [
        "## Find and replace"
      ]
    },
    {
      "cell_type": "code",
      "execution_count": null,
      "metadata": {
        "colab": {
          "base_uri": "https://localhost:8080/",
          "height": 34
        },
        "id": "s4FkWI9Qj3dJ",
        "outputId": "91f20ea1-260c-4a07-da9b-5e430149bbef"
      },
      "outputs": [
        {
          "data": {
            "text/plain": [
              "3"
            ]
          },
          "execution_count": 33,
          "metadata": {},
          "output_type": "execute_result"
        }
      ],
      "source": [
        "a = '123123123'\n",
        "\n",
        "# Number of occurrences of substring\n",
        "a.count('1')"
      ]
    },
    {
      "cell_type": "code",
      "execution_count": null,
      "metadata": {
        "colab": {
          "base_uri": "https://localhost:8080/",
          "height": 51
        },
        "id": "_ViqM0IqkrHi",
        "outputId": "805c6034-8ee1-4696-f857-bf797be93d9e"
      },
      "outputs": [
        {
          "name": "stdout",
          "output_type": "stream",
          "text": [
            "0\n",
            "6\n"
          ]
        }
      ],
      "source": [
        "# Return index of first occurrence\n",
        "print(a.find('1'))\n",
        "\n",
        "# the last occurence\n",
        "print(a.rfind('1'))"
      ]
    },
    {
      "cell_type": "code",
      "execution_count": null,
      "metadata": {
        "id": "tI3HoL9YEJ8h"
      },
      "outputs": [],
      "source": [
        "?str.rfind"
      ]
    },
    {
      "cell_type": "code",
      "execution_count": null,
      "metadata": {
        "id": "YV3j2_C-EJ8i",
        "outputId": "5d774f99-441d-4093-fb9d-4d1ea8fe72e6"
      },
      "outputs": [
        {
          "name": "stdout",
          "output_type": "stream",
          "text": [
            "123123123\n"
          ]
        }
      ],
      "source": [
        "print(a)"
      ]
    },
    {
      "cell_type": "code",
      "execution_count": null,
      "metadata": {
        "colab": {
          "base_uri": "https://localhost:8080/",
          "height": 35
        },
        "id": "0OnFOWB-kssH",
        "outputId": "545c4e8f-a29b-447f-ea60-b848b4f4a574"
      },
      "outputs": [
        {
          "data": {
            "text/plain": [
              "'C3C3C3'"
            ]
          },
          "execution_count": 37,
          "metadata": {},
          "output_type": "execute_result"
        }
      ],
      "source": [
        "a = a.replace('12', 'C')\n",
        "a"
      ]
    },
    {
      "cell_type": "markdown",
      "metadata": {
        "id": "szIlPKudg-re"
      },
      "source": [
        "# in / not in"
      ]
    },
    {
      "cell_type": "code",
      "execution_count": null,
      "metadata": {
        "id": "vBDXt5QLEJ8m",
        "outputId": "384480cd-642d-47bd-bd69-5a9d40cf747c"
      },
      "outputs": [
        {
          "name": "stdout",
          "output_type": "stream",
          "text": [
            "C3C3C3\n"
          ]
        }
      ],
      "source": [
        "print(a)"
      ]
    },
    {
      "cell_type": "code",
      "execution_count": null,
      "metadata": {
        "colab": {
          "base_uri": "https://localhost:8080/",
          "height": 35
        },
        "id": "e5RVbs2tgy_e",
        "outputId": "f6d287be-962c-4584-9483-cc0ca21f13a5"
      },
      "outputs": [
        {
          "data": {
            "text/plain": [
              "True"
            ]
          },
          "execution_count": 39,
          "metadata": {},
          "output_type": "execute_result"
        }
      ],
      "source": [
        "'C33' in a or '3' in a"
      ]
    },
    {
      "cell_type": "code",
      "execution_count": null,
      "metadata": {
        "colab": {
          "base_uri": "https://localhost:8080/",
          "height": 35
        },
        "id": "B1jo10e5g6jL",
        "outputId": "8f798d91-ad7f-4913-ee09-ebf63b2e2855"
      },
      "outputs": [
        {
          "data": {
            "text/plain": [
              "True"
            ]
          },
          "execution_count": 40,
          "metadata": {},
          "output_type": "execute_result"
        }
      ],
      "source": [
        "'Z' not in a"
      ]
    },
    {
      "cell_type": "markdown",
      "metadata": {
        "id": "mUb4ZuQVhDFb"
      },
      "source": [
        "# Removing excess symbols"
      ]
    },
    {
      "cell_type": "code",
      "execution_count": null,
      "metadata": {
        "colab": {
          "base_uri": "https://localhost:8080/",
          "height": 35
        },
        "id": "aJcHuBAsk7pa",
        "outputId": "cfed22c2-6aaf-4173-c167-b40b54dfcaac"
      },
      "outputs": [
        {
          "data": {
            "text/plain": [
              "'some noizy string'"
            ]
          },
          "execution_count": 41,
          "metadata": {},
          "output_type": "execute_result"
        }
      ],
      "source": [
        "# Remove trailing symbols\n",
        "a = '    some noizy string       '\n",
        "a.strip()"
      ]
    },
    {
      "cell_type": "code",
      "execution_count": null,
      "metadata": {
        "colab": {
          "base_uri": "https://localhost:8080/",
          "height": 35
        },
        "id": "5weEJSqjlXIr",
        "outputId": "260cb4cd-2ef6-470b-9e2d-dadc3b489d2d"
      },
      "outputs": [
        {
          "data": {
            "text/plain": [
              "'some noizy string'"
            ]
          },
          "execution_count": 42,
          "metadata": {},
          "output_type": "execute_result"
        }
      ],
      "source": [
        "a = '?!!!!!some noizy string!!!?!!!!'\n",
        "a.strip('!?')"
      ]
    },
    {
      "cell_type": "code",
      "execution_count": null,
      "metadata": {
        "colab": {
          "base_uri": "https://localhost:8080/",
          "height": 35
        },
        "id": "AFMNu3tJlgOq",
        "outputId": "518569ff-294a-495d-a7d6-4f1989e4254b"
      },
      "outputs": [
        {
          "data": {
            "text/plain": [
              "('C3C3C3!', '33C3C3C3')"
            ]
          },
          "execution_count": 43,
          "metadata": {},
          "output_type": "execute_result"
        }
      ],
      "source": [
        "a = '33C3C3C3!'\n",
        "a.lstrip('3'), a.rstrip('!')"
      ]
    },
    {
      "cell_type": "markdown",
      "metadata": {
        "id": "D4zj5zLU39Yf"
      },
      "source": [
        "**Task 1** Create a program that makes a *traversal* of an input string and prints every second letter of the sting on each line.  \n",
        "For example:  \n",
        "**input:**  \n",
        "abcdef  \n",
        "  \n",
        "**output:**  \n",
        "a  \n",
        "c  \n",
        "e"
      ]
    },
    {
      "cell_type": "code",
      "execution_count": null,
      "metadata": {
        "colab": {
          "base_uri": "https://localhost:8080/"
        },
        "id": "ka93x2sogtlK",
        "outputId": "1b733c18-969c-4634-c0c8-39a7513932fe"
      },
      "outputs": [
        {
          "name": "stdout",
          "output_type": "stream",
          "text": [
            "b\n",
            "d\n",
            "f\n"
          ]
        }
      ],
      "source": [
        "a = \"abcdef\"\n",
        "a[1:len(a):2]\n",
        "for index in range(1, len(a), 2):\n",
        "    print(a[index])"
      ]
    },
    {
      "cell_type": "code",
      "execution_count": null,
      "metadata": {
        "colab": {
          "base_uri": "https://localhost:8080/",
          "height": 35
        },
        "id": "BoigJU8ChMch",
        "outputId": "5c866c46-e976-4fc8-805a-e47c8fb0719d",
        "scrolled": true
      },
      "outputs": [
        {
          "data": {
            "text/plain": [
              "'fdb'"
            ]
          },
          "execution_count": 45,
          "metadata": {},
          "output_type": "execute_result"
        }
      ],
      "source": [
        "a[len(a)-1:0:-2]"
      ]
    },
    {
      "cell_type": "markdown",
      "metadata": {
        "id": "m9hI0QoA39Yk"
      },
      "source": [
        "**Task 2** Create a program that removes all the numbers from the string.\\\n",
        "For example:  \n",
        "**input**:  \n",
        "lalala12345lll  \n",
        "  \n",
        "**output**:  \n",
        "lalalalll"
      ]
    },
    {
      "cell_type": "code",
      "execution_count": null,
      "metadata": {
        "colab": {
          "base_uri": "https://localhost:8080/",
          "height": 35
        },
        "id": "p_nRzg0Rhbhr",
        "outputId": "b1140da4-ee7e-4e7c-e68a-541e86216380"
      },
      "outputs": [
        {
          "name": "stdout",
          "output_type": "stream",
          "text": [
            "\n",
            "\n"
          ]
        }
      ],
      "source": [
        "n = input()\n",
        "for i in n:\n",
        "    if i.isdigit() == True:\n",
        "        n = n.replace(i, \"\")\n",
        "print(n)"
      ]
    },
    {
      "cell_type": "code",
      "execution_count": null,
      "metadata": {
        "id": "bxj_NHAr39Yo",
        "outputId": "3e926ac7-47f6-4a52-ce55-77944dd2c914"
      },
      "outputs": [
        {
          "data": {
            "text/plain": [
              "4"
            ]
          },
          "execution_count": 47,
          "metadata": {},
          "output_type": "execute_result"
        }
      ],
      "source": [
        "#other important methods:\n",
        "a.find('e')"
      ]
    },
    {
      "cell_type": "code",
      "execution_count": null,
      "metadata": {
        "id": "-b4j249539Ys",
        "outputId": "4040ec69-3d42-4aa6-ead4-957a72191785"
      },
      "outputs": [
        {
          "data": {
            "text/plain": [
              "'abcdAAAAAf'"
            ]
          },
          "execution_count": 48,
          "metadata": {},
          "output_type": "execute_result"
        }
      ],
      "source": [
        "a.replace('e', 'AAAAA')"
      ]
    },
    {
      "cell_type": "code",
      "execution_count": null,
      "metadata": {
        "id": "7WhSp_us39Yv",
        "outputId": "a6a17720-b3f6-41d3-c9cb-b05fea67cc3d"
      },
      "outputs": [
        {
          "data": {
            "text/plain": [
              "'abcdef'"
            ]
          },
          "execution_count": 49,
          "metadata": {},
          "output_type": "execute_result"
        }
      ],
      "source": [
        "a.strip()"
      ]
    },
    {
      "cell_type": "code",
      "execution_count": null,
      "metadata": {
        "id": "jGcP5O4c39Yz",
        "outputId": "b2e16f9b-e21b-477b-8539-88227bc680c4"
      },
      "outputs": [
        {
          "data": {
            "text/plain": [
              "['Hello', ' student']"
            ]
          },
          "execution_count": 50,
          "metadata": {},
          "output_type": "execute_result"
        }
      ],
      "source": [
        "a = \"Hello, student\"\n",
        "a.split(\",\")\n",
        "#what's the type of the output?"
      ]
    },
    {
      "cell_type": "markdown",
      "metadata": {
        "id": "pLpj9vyV39Y3"
      },
      "source": [
        "**Task 3** Parse a string which is an email adress in a format abcde@domain.com that is input by user and print the domain (gmail/mail/rambler/hse/...)  \n",
        "For example:  \n",
        "**input:**  \n",
        "sysoevmark@gmail.com  \n",
        "  \n",
        "**output:**  \n",
        "gmail"
      ]
    },
    {
      "cell_type": "code",
      "execution_count": null,
      "metadata": {
        "colab": {
          "base_uri": "https://localhost:8080/",
          "height": 35
        },
        "id": "r1buhJQWi0wN",
        "outputId": "c1524f6b-4b69-495c-f338-ac8243613c41"
      },
      "outputs": [
        {
          "data": {
            "text/plain": [
              "'gmail'"
            ]
          },
          "execution_count": 51,
          "metadata": {},
          "output_type": "execute_result"
        }
      ],
      "source": [
        "a = \"sysoevmark@gmail.com\"\n",
        "a.split(\"@\")[1].split(\".\")[0]\n",
        "\n",
        "# a.split(\"@\")[1][:-4]"
      ]
    },
    {
      "cell_type": "markdown",
      "metadata": {
        "id": "vrG9hush39Y4"
      },
      "source": [
        "**Task 4** Write a python program to read a date (dd-mm-yyyy) and print the month name according the month number  \n",
        "For example:  \n",
        "**input:**  \n",
        "13-04-1998  \n",
        "  \n",
        "**output:**  \n",
        "April"
      ]
    },
    {
      "cell_type": "code",
      "execution_count": null,
      "metadata": {
        "colab": {
          "base_uri": "https://localhost:8080/",
          "height": 35
        },
        "id": "_SgJ1soqjYFa",
        "outputId": "eb44e546-0daa-4829-af2c-6c5a0799404c"
      },
      "outputs": [
        {
          "data": {
            "text/plain": [
              "'Jan'"
            ]
          },
          "execution_count": 52,
          "metadata": {},
          "output_type": "execute_result"
        }
      ],
      "source": [
        "a = \"21-01-2021\"\n",
        "months = [\"Jan\"]\n",
        "months [int(a.split(\"-\")[1]) - 1]"
      ]
    },
    {
      "cell_type": "code",
      "execution_count": null,
      "metadata": {
        "colab": {
          "base_uri": "https://localhost:8080/"
        },
        "id": "NC-19FjS39Y4",
        "outputId": "008d22b0-4512-4479-eb82-6284e6e18e46"
      },
      "outputs": [
        {
          "data": {
            "text/plain": [
              "str"
            ]
          },
          "execution_count": 53,
          "metadata": {},
          "output_type": "execute_result"
        }
      ],
      "source": [
        "stuff = 'Hello world'\n",
        "type(stuff)"
      ]
    },
    {
      "cell_type": "code",
      "execution_count": null,
      "metadata": {
        "colab": {
          "base_uri": "https://localhost:8080/"
        },
        "id": "lqd7uFHt39Y8",
        "outputId": "e5f4f9cb-6963-4e52-a4e0-3fd2ba506547"
      },
      "outputs": [
        {
          "data": {
            "text/plain": [
              "['__add__',\n",
              " '__class__',\n",
              " '__contains__',\n",
              " '__delattr__',\n",
              " '__dir__',\n",
              " '__doc__',\n",
              " '__eq__',\n",
              " '__format__',\n",
              " '__ge__',\n",
              " '__getattribute__',\n",
              " '__getitem__',\n",
              " '__getnewargs__',\n",
              " '__gt__',\n",
              " '__hash__',\n",
              " '__init__',\n",
              " '__init_subclass__',\n",
              " '__iter__',\n",
              " '__le__',\n",
              " '__len__',\n",
              " '__lt__',\n",
              " '__mod__',\n",
              " '__mul__',\n",
              " '__ne__',\n",
              " '__new__',\n",
              " '__reduce__',\n",
              " '__reduce_ex__',\n",
              " '__repr__',\n",
              " '__rmod__',\n",
              " '__rmul__',\n",
              " '__setattr__',\n",
              " '__sizeof__',\n",
              " '__str__',\n",
              " '__subclasshook__',\n",
              " 'capitalize',\n",
              " 'casefold',\n",
              " 'center',\n",
              " 'count',\n",
              " 'encode',\n",
              " 'endswith',\n",
              " 'expandtabs',\n",
              " 'find',\n",
              " 'format',\n",
              " 'format_map',\n",
              " 'index',\n",
              " 'isalnum',\n",
              " 'isalpha',\n",
              " 'isascii',\n",
              " 'isdecimal',\n",
              " 'isdigit',\n",
              " 'isidentifier',\n",
              " 'islower',\n",
              " 'isnumeric',\n",
              " 'isprintable',\n",
              " 'isspace',\n",
              " 'istitle',\n",
              " 'isupper',\n",
              " 'join',\n",
              " 'ljust',\n",
              " 'lower',\n",
              " 'lstrip',\n",
              " 'maketrans',\n",
              " 'partition',\n",
              " 'removeprefix',\n",
              " 'removesuffix',\n",
              " 'replace',\n",
              " 'rfind',\n",
              " 'rindex',\n",
              " 'rjust',\n",
              " 'rpartition',\n",
              " 'rsplit',\n",
              " 'rstrip',\n",
              " 'split',\n",
              " 'splitlines',\n",
              " 'startswith',\n",
              " 'strip',\n",
              " 'swapcase',\n",
              " 'title',\n",
              " 'translate',\n",
              " 'upper',\n",
              " 'zfill']"
            ]
          },
          "execution_count": 54,
          "metadata": {},
          "output_type": "execute_result"
        }
      ],
      "source": [
        "#What else can be done?\n",
        "dir(stuff)"
      ]
    },
    {
      "cell_type": "markdown",
      "metadata": {
        "id": "obR7gsLg39Y_"
      },
      "source": [
        "**Task 5** Check if the input word is a *palindrome*  \n",
        "For example:  \n",
        "**input:**  \n",
        "tennet\n",
        "  \n",
        "**output:**  \n",
        "YES"
      ]
    },
    {
      "cell_type": "code",
      "execution_count": null,
      "metadata": {
        "id": "JWxZH1RgkL2E"
      },
      "outputs": [],
      "source": [
        "a = \"tennet\"\n",
        "\n",
        "\n",
        "# Your code here"
      ]
    },
    {
      "cell_type": "markdown",
      "metadata": {
        "id": "uJLvnM7X5as_"
      },
      "source": [
        "**Task 6** Find the longest word in the line\n"
      ]
    },
    {
      "cell_type": "code",
      "execution_count": null,
      "metadata": {
        "id": "sVAD-_dPkZi0"
      },
      "outputs": [],
      "source": [
        "a = \"a   aa   aaa  aaaa  aaaaa aaaa aaa aa a\"\n",
        "\n",
        "# Your code here"
      ]
    },
    {
      "cell_type": "markdown",
      "metadata": {
        "id": "LwhpWO_c6RFr"
      },
      "source": [
        "**Task 7** Remove spaces and quotes in the beginning and end of the line\n",
        "\n",
        "Example:\n",
        "\n",
        "**input**\n",
        " \"student \"\n",
        "\n",
        " **output**\n",
        " student"
      ]
    },
    {
      "cell_type": "code",
      "execution_count": null,
      "metadata": {
        "id": "b_AYF0whls62"
      },
      "outputs": [],
      "source": [
        "a = \"student '\\\"\"\n",
        "\n",
        "# Your code here"
      ]
    },
    {
      "cell_type": "markdown",
      "metadata": {
        "id": "3dRPGFsl6l5q"
      },
      "source": [
        "**Task 8**\\\n",
        "Find the number of upper and lower-case symbols in the line\n",
        "\n",
        "**input**\\\n",
        "STudent\n",
        "\n",
        "**output**\\\n",
        "upper - 2, lower - 5"
      ]
    },
    {
      "cell_type": "code",
      "execution_count": null,
      "metadata": {
        "id": "FQUZrmtimIDK"
      },
      "outputs": [],
      "source": [
        "word = \"STudent\"\n",
        "total_upper = 0\n",
        "total_lower = 0\n",
        "\n",
        "# Your code here"
      ]
    },
    {
      "cell_type": "markdown",
      "metadata": {
        "id": "Y2T-ua9I9E-X"
      },
      "source": [
        "**Task 9**\\\n",
        "Count the number of words in the line\n",
        "\n",
        "\n",
        "**input**\\\n",
        "one two three\n",
        "\n",
        "**output**\\\n",
        "3"
      ]
    },
    {
      "cell_type": "code",
      "execution_count": null,
      "metadata": {
        "id": "uq6onPtvmss2"
      },
      "outputs": [],
      "source": [
        "string = '234 235 235235 2 35235 2 3532 5'\n",
        "\n",
        "# Your code here"
      ]
    },
    {
      "cell_type": "markdown",
      "metadata": {
        "id": "y4Y1rnCI-PWP"
      },
      "source": [
        "**Task 10**\n",
        "\n",
        "Repetition encoding is one of the ways to compress strings:  sequence of the same elements is substituted with one symbol concatenated with the number of repetitions.\n",
        "\n",
        "Eg 'AAAAAABBBBBCCCCCCCCCCC' <- 'A6B5C11'\n",
        "\n",
        "Let's suppose the string may contain only alphabetic symbols A-Z or a-z\n",
        "\n",
        "Read an input string, compressed using repetition encoding and decode it."
      ]
    },
    {
      "cell_type": "code",
      "execution_count": null,
      "metadata": {
        "id": "A3cMn8PDlir0"
      },
      "outputs": [],
      "source": [
        "string = \"A1000B10\"\n",
        "current_symbol = None\n",
        "current_number_str = \"\"\n",
        "result = \"\"\n",
        "\n",
        "# Your code here"
      ]
    },
    {
      "cell_type": "code",
      "execution_count": null,
      "metadata": {
        "colab": {
          "base_uri": "https://localhost:8080/"
        },
        "id": "6UP-9ApjpwON",
        "outputId": "7334406d-e79d-451e-ab66-981b5b737a3f"
      },
      "outputs": [
        {
          "name": "stdout",
          "output_type": "stream",
          "text": [
            "lkwmfiwm n343kj4 34 jkc 34c\n",
            "w\n",
            "4\n",
            "lkwmf\n",
            "lkwmfiwm n343kj4 34 jkc 3\n",
            "lwfw 33j 4jc3c\n",
            "kmimn4k43 k 4\n",
            "c43 ckj 43 4jk343n mwifmwkl\n",
            "c3cj4 j33 wfwl\n",
            "27\n"
          ]
        }
      ],
      "source": [
        "string = input ()\n",
        "print(string[2])\n",
        "print(string[-2])\n",
        "print(string[:5])\n",
        "print(string[:-2])\n",
        "print(string[0::2])\n",
        "print(string[1::2])\n",
        "print(string[::-1])\n",
        "print(string[::-2])\n",
        "print(len(string))"
      ]
    }
  ],
  "metadata": {
    "colab": {
      "provenance": []
    },
    "kernelspec": {
      "display_name": "Python 3 (ipykernel)",
      "language": "python",
      "name": "python3"
    },
    "language_info": {
      "codemirror_mode": {
        "name": "ipython",
        "version": 3
      },
      "file_extension": ".py",
      "mimetype": "text/x-python",
      "name": "python",
      "nbconvert_exporter": "python",
      "pygments_lexer": "ipython3",
      "version": "3.9.13"
    }
  },
  "nbformat": 4,
  "nbformat_minor": 0
}