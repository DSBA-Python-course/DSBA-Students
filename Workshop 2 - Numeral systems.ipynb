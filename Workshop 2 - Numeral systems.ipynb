{
 "cells": [
  {
   "cell_type": "markdown",
   "metadata": {
    "colab_type": "text",
    "id": "x_tZR-HCVGd2"
   },
   "source": [
    "# Numeral systems\n",
    "\n",
    "The basic example of how numeral systems work:\n",
    "\n",
    "Base 10:\n",
    "\n",
    "53 = **5**\\*10 + **3**\n",
    "\n",
    "192 = **1**\\*100 + **9**\\*10 + __2__\n",
    "\n",
    "693914 = __6__\\*$10^5$ + __9__\\*$10^4$ + __3__\\*$10^3$ + __9__\\*$10^2$ + __1__\\*$10^1$ + __4__\\*$10^0$\n",
    "\n",
    "Or\n",
    "\n",
    "693014 = 6\\*$\\mathbf{10}^5$ + 9\\*$\\mathbf{10}^4$ + 3\\*$\\mathbf{10}^3$ + 0\\*$\\mathbf{10}^2$ + 1\\*$\\mathbf{10}^1$ + 4\\*$\\mathbf{10}^0$\n",
    "\n",
    "This \"10\" means that we are currently using decimal numbers, or base 10.\n",
    "\n",
    "Changing this number means changing the base."
   ]
  },
  {
   "cell_type": "markdown",
   "metadata": {
    "colab_type": "text",
    "id": "f_RLMmOKe0ap"
   },
   "source": [
    "## Examples of non-decimal numbers (conversion to base 10)\n",
    "\n",
    "### Base 6:\n",
    "\n",
    "53 = __5__\\*6 + __3__ (which is 33 in base 10)\n",
    "\n",
    "100 = __1__\\*36 + __0__\\*6 + __0__ (which is 36 in base 10)\n",
    "\n",
    "192 = ??? (there is no number 9 in base 6, there are only numbers 0, 1, 2, 3, 4, 5)\n",
    "\n",
    "23240400 = __2__\\*$6^7$ + __3__\\*$6^6$ + __2__\\*$6^5$ + __4__\\*$6^4$ + __0__\\*$6^3$ + __4__\\*$6^2$ + __0__\\*$6^1$ + __0__\\*$6^0$ (which is 720720 in base 10)\n",
    "\n",
    "### Base 2:\n",
    "\n",
    "1010 = __1__\\*8 + __0__\\*4 + __1__\\*2 + __0__\\*1 (which is 10 in base 10)\n",
    "\n",
    "110111 = __1__\\*32 + __1__\\*16 + __0__\\*8 + __1__\\*4 + __1__\\*2 + __1__\\*1 (which is 55 in base 10)\n",
    "\n",
    "### Base 16:\n",
    "\n",
    "For any base there number of available digits equals the base. So, only two digits (0 and 1) for base 2, 10 digits (0, 1, 2, 3, 4, 5, 6, 7, 8, 9) for base 10.\n",
    "\n",
    "Therefore, extra symbols for \"10, 11, 12, 13, 14 and 15\" are needed for base 16. Latin letters A, B, C, D, E and F are used as these digits.\n",
    "\n",
    "10AB = __1__\\*$16^3$ + __0__\\*$16^2$ + __A__\\*$16^1$ + __B__\\*$16^0$\n",
    "\n",
    "Converting to base 10:\n",
    "\n",
    "__1__\\*$16^3$ + __0__\\*$16^2$ + __A__\\*$16^1$ + __B__\\*$16^0$ =   \n",
    "__1__\\*4096 + __0__\\*256 + __A__\\*16 + __B__\\*1 = 4096 + 10*16 + 11 = 4267\n",
    "\n",
    "So, 10AB in base 16 is 4267 in base 10.\n",
    "\n",
    "### In general:\n",
    "\n",
    "To convert a number from some other base to base 10, you represent the number as a mathematical expression. For a number \"xyzzy\" in some base b the expression is\n",
    "\n",
    "__x__\\*$b^4$ + __y__\\*$b^3$ + __z__\\*$b^2$ + __z__\\*$b^1$ + __y__\\*$b^0$ \n",
    "\n",
    "Then you perform multiplications, take the sum are get the number in base 10.\n"
   ]
  },
  {
   "cell_type": "code",
   "execution_count": 2,
   "metadata": {
    "colab": {
     "base_uri": "https://localhost:8080/",
     "height": 51
    },
    "colab_type": "code",
    "executionInfo": {
     "elapsed": 636,
     "status": "ok",
     "timestamp": 1600239577537,
     "user": {
      "displayName": "George Piatsky",
      "photoUrl": "",
      "userId": "11871908103632217156"
     },
     "user_tz": -180
    },
    "id": "cX1hV6geqKj8",
    "outputId": "f566ed28-faec-4172-d74d-9c7767ee7117"
   },
   "outputs": [
    {
     "name": "stdout",
     "output_type": "stream",
     "text": [
      "556\n",
      "556\n"
     ]
    }
   ],
   "source": [
    "#                  0123\n",
    "original_number = '2324'\n",
    "len(original_number)\n",
    "\n",
    "original_base = 6\n",
    "answer = 0\n",
    "\n",
    "# your code\n",
    "# dec_number = \n",
    "print(answer)\n",
    "\n",
    "# there is a default python way of converting any base to decimal:\n",
    "number = int(original_number, original_base)\n",
    "print(number)\n",
    "# Do not use it here"
   ]
  },
  {
   "cell_type": "markdown",
   "metadata": {
    "colab_type": "text",
    "id": "z58ixosBtDL3"
   },
   "source": [
    "## Example problems\n",
    "\n",
    "Convert the following numbers to base 10:\n",
    "\n",
    "100, 244, 121 from base 6,  \n",
    "10101101 from base 2,  \n",
    "F4, AD from base 16."
   ]
  },
  {
   "cell_type": "markdown",
   "metadata": {
    "colab_type": "text",
    "id": "iyuoeqvdiDf7"
   },
   "source": [
    "## Conversion from base 10\n",
    "\n",
    "To convert numbers to base 10 you use multiplication and compute the sum. To convert numbers from base 10 to other bases you use division.\n",
    "\n",
    "For example, converting the number 53 to base 6 will look like this:\n",
    "\n",
    "53 // 6 = 8 (+__5__ as a remainder)  \n",
    "8 // 6 = 1 (+__2__ as a remainder)  \n",
    "__1__ is less than 6\n",
    "\n",
    "The answer is 125. We can check if it's the correct answer:\n",
    "\n",
    "125(6) = __1__\\*36 + __2__\\*6 + __5__ = 36 + 12 + 5 = 53(10)\n",
    "\n",
    "### Base 2\n",
    "\n",
    "Converting the same number 53 to binary:\n",
    "\n",
    "53 // 2 = 26 (+__1__ as a remainder)  \n",
    "26 // 2 = 13 (+__0__ as a remainder)  \n",
    "13 // 2 = 6  (+__1__ as a remainder)  \n",
    "6 // 2 = 3 (+__0__ as a remainder)  \n",
    "3 // 1 = 1 (+__1__ as a remainder)  \n",
    "__1__ is less than 2\n",
    "\n",
    "The result is 110101.\n",
    "\n",
    "### Base 16\n",
    "\n",
    "The last example, converting 4267 back to base 16.\n",
    "\n",
    "4267 // 16 = 266 (+__11__ as a remainder)  \n",
    "266 // 16 = 16 (+__10__ as a remainder)  \n",
    "16 // 16 = 1 (+__0__ as a remainder)  \n",
    "__1__ is less than 16\n",
    "\n",
    "The answer is 1 0 10 11. Or 10AB.\n",
    "\n"
   ]
  },
  {
   "cell_type": "code",
   "execution_count": 4,
   "metadata": {
    "colab": {
     "base_uri": "https://localhost:8080/",
     "height": 51
    },
    "colab_type": "code",
    "executionInfo": {
     "elapsed": 661,
     "status": "ok",
     "timestamp": 1600239955343,
     "user": {
      "displayName": "George Piatsky",
      "photoUrl": "",
      "userId": "11871908103632217156"
     },
     "user_tz": -180
    },
    "id": "TYJ6hHUKrIBM",
    "outputId": "5ca4cfec-4ac7-4458-8b71-364e47bd521a"
   },
   "outputs": [
    {
     "name": "stdout",
     "output_type": "stream",
     "text": [
      "1750\n",
      "1000\n"
     ]
    }
   ],
   "source": [
    "original_number = 1000\n",
    "to_base = 8\n",
    "answer = ''\n",
    "\n",
    "# your code here\n",
    "answer = str(remainder) + answer\n",
    "# your code here\n",
    "\n",
    "if not answer:\n",
    "  answer = '0'\n",
    "\n",
    "# result should be a string\n",
    "print(answer)\n",
    "\n",
    "number = int(answer, to_base)\n",
    "print (number)\n",
    "\n",
    "\n"
   ]
  },
  {
   "cell_type": "markdown",
   "metadata": {
    "colab_type": "text",
    "id": "8XBNiaQTSdKm"
   },
   "source": [
    "## Example problems\n",
    "\n",
    "Convert the following numbers from base 10 to bases 2, 6 and 16:\n",
    "\n",
    "153, 200, 25.\n"
   ]
  },
  {
   "cell_type": "markdown",
   "metadata": {
    "colab_type": "text",
    "id": "csQ2mEGrs_Rk"
   },
   "source": [
    "## Numeral systems based on powers of 2\n",
    "\n",
    "Computers store all information in binary, so you have to understand how binary works if you want to better understand the low-level processes in computers.\n",
    "\n",
    "Binary is inconvenient in some respects. Particularly, even small numbers are represented as long strings in binary.\n",
    "\n",
    "110111(2) is 55(10)  \n",
    "10101101100111(2) is 11111(10)\n",
    "\n",
    "Luckily, it is quite easy to convert binary to base 16 and back.\n",
    "\n",
    "```\n",
    "Base 2:    11  0111\n",
    "Base 10:    3    7\n",
    "Base 16:    3    7\n",
    "```\n",
    "And\n",
    "\n",
    "```\n",
    "Base 2:   10 1011 0110 0111\n",
    "Base 10:   2   11    6    7\n",
    "Base 16:   2    B    6    7\n",
    "```\n",
    "2 binary digits always convert to a single hexadecimal digit, so you can do the conversion by groups of 4 digits.\n",
    "\n",
    "Bytes of computer information are groups of 8 binary digits, and they can be represented as two hexadecimal digits.\n",
    "\n",
    "Octal numeral system is also used in some cases. An octal digit can represent 3 binary digits.\n",
    "\n",
    "```\n",
    "Base 2:   10 101 101 100 111\n",
    "Base 8:    2   5   5   4   7\n",
    "```\n",
    "\n",
    "This way you can easily convert numbers between binary and any other \"power of two\" base. \n",
    "\n",
    "An example of converting backwards:\n",
    "\n",
    "```\n",
    "Base 16:    9    5    A    5    A\n",
    "Base 10:    9    5   10    5   10\n",
    "Base 2:  1001 0101 1010 0101 1010\n",
    "```\n",
    "\n",
    "*Base 10 is used just to illustrate the base 16 digits, this method doesn't help with conversion to base 10.*"
   ]
  },
  {
   "cell_type": "markdown",
   "metadata": {
    "colab_type": "text",
    "id": "dDh2D9DHW2Sv"
   },
   "source": [
    "## Example problems\n",
    "\n",
    "Convert FF5733 to binary and then to octal.\n",
    "\n",
    "Convert 10715526 (*8*) from octal to binary and then to base 16."
   ]
  },
  {
   "cell_type": "markdown",
   "metadata": {
    "colab_type": "text",
    "id": "YTUYODNZYanh"
   },
   "source": [
    "# Arithmetic in non-decimal bases (optional)\n",
    "\n",
    "Earlier there were mostly examples of conversion between decimal and other bases. There wasn't any reason for this other than base 10 being the default base for us and the base we are used to. It's possible to move all arithmetic and all math to other bases.\n",
    "\n",
    "## Addition\n",
    "\n",
    "You can add up numbers just like in base 10. You add up digits, then, if the result is larger or equal to the base, you carry 1 to the next digit.\n",
    "\n",
    "```\n",
    "   111  1\n",
    "010010101101 +\n",
    "100011100100\n",
    "============\n",
    "110110010001\n",
    "```\n",
    "\n",
    "The first row marks places where 1 is carried in the sum.\n",
    "\n",
    "Now base 6:\n",
    "\n",
    "```\n",
    "1 11\n",
    " 2352 +\n",
    " 4144\n",
    " ====\n",
    "10540\n",
    "```\n",
    "\n",
    "## Multiplication\n",
    "\n",
    "Just like for base 10, you need a multiplication table for all 1-digit numbers so it is easier to perform multiplication.\n",
    "\n",
    "For binary the table is quite simple:\n",
    "\n",
    "```\n",
    "   | 0 | 1 |\n",
    " 0 | 0   0 |\n",
    " 1 | 0   1 |\n",
    "```\n",
    "\n",
    "For base 6 it's more complex:\n",
    "\n",
    "```\n",
    "   | 0 | 1 | 2 | 3 | 4 | 5 |\n",
    " 0 | 0   0   0   0   0   0 |\n",
    " 1 | 0   1   2   3   4   5 |\n",
    " 2 | 0   2   4  10  12  14 |\n",
    " 3 | 0   3  10  13  20  23 |\n",
    " 4 | 0   4  12  20  24  32 |\n",
    " 5 | 0   5  14  23  32  41 |\n",
    "```\n",
    "\n",
    "Using such a table for a particular base, you can multiply numbers of this base just like decimals.\n",
    "\n",
    "```\n",
    "   1101 *\n",
    "    110\n",
    "=======\n",
    "      0\n",
    "  1101   +\n",
    " 1101\n",
    "=======\n",
    "1001110 \n",
    "```\n",
    "\n",
    "Try multiplying 1011 by 1001 in binary."
   ]
  },
  {
   "cell_type": "markdown",
   "metadata": {
    "colab_type": "text",
    "id": "QOwUa4LqiJ9P"
   },
   "source": [
    "## IP addresses and masks\n",
    "\n",
    "One of the applications where binary directly comes into play is network routing.\n",
    "\n",
    "IP address is an important part of the network structure. Usually it is written as 4 decimal numbers separated by dots:\n",
    "\n",
    "208.80.154.224 - an IP address used by Wikimedia Foundation.\n",
    "\n",
    "Sometimes several IP addresses are united in a subnetwork, where they have a fixed prefix and differ only by the last several binary digits.\n",
    "\n",
    "These masks can be written as \"/25\" or 255.255.255.128. In this example, both these masks mean that the first 25 binary digits of an IP address stay the same and the last 8 ones change.\n",
    "\n",
    "\n",
    "```\n",
    "Address: 11010000.01010000.10011010.11100000\n",
    "Mask:    11111111.11111111.11111111.10000000\n",
    "Network: 11010000.01010000.10011010.10000000\n",
    "```\n",
    "\n",
    "By applying the mask to the address (that is, using an \"AND\" operation, or multiplying each digit of an address to a digit of a mask) you get a network prefix.\n",
    "\n",
    "Try applying the masks 255.255.255.192 and 255.255.248.0 to the following addresses:\n",
    "\n",
    "111.49.45.105  \n",
    "39.134.166.136  \n",
    "203.213.41.232\n"
   ]
  },
  {
   "cell_type": "markdown",
   "metadata": {
    "colab_type": "text",
    "id": "bS7oToDZoyzt"
   },
   "source": [
    "# Writing a converter\n",
    "\n",
    "Python has a default way of converting numbers from other bases to base 10 as a part of the function `int`. However, if you want to convert numbers to other bases, you have to implement the algorithm yourself.\n",
    "\n",
    "Solve this task after practicing tasks on loops and conditional statements."
   ]
  },
  {
   "cell_type": "code",
   "execution_count": null,
   "metadata": {
    "colab": {},
    "colab_type": "code",
    "id": "rZ1s89zvVGd4"
   },
   "outputs": [],
   "source": [
    "alphabet = '0123456789ABCDEFGHIJKLMNOPQRSTUVWXYZ'\n",
    "original_number = '255'\n",
    "\n",
    "from_base = 10\n",
    "to_base = 16\n",
    "result = ''\n",
    "\n",
    "# convert the number to base 10\n",
    "number = int(original_number, from_base)\n",
    "\n",
    "# your code here\n",
    "\n",
    "print(result)\n"
   ]
  }
 ],
 "metadata": {
  "colab": {
   "collapsed_sections": [],
   "name": "Workshop3.ipynb",
   "provenance": []
  },
  "kernelspec": {
   "display_name": "Python 3 (ipykernel)",
   "language": "python",
   "name": "python3"
  },
  "language_info": {
   "codemirror_mode": {
    "name": "ipython",
    "version": 3
   },
   "file_extension": ".py",
   "mimetype": "text/x-python",
   "name": "python",
   "nbconvert_exporter": "python",
   "pygments_lexer": "ipython3",
   "version": "3.10.6"
  }
 },
 "nbformat": 4,
 "nbformat_minor": 1
}
